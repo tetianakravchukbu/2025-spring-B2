{
 "cells": [
  {
   "cell_type": "markdown",
   "id": "5190b54c-d49c-4d6f-80cc-22555336a9cd",
   "metadata": {},
   "source": [
    "# Week 2 - Preprocessing, part 2\n",
    "\n",
    "\n",
    "<h1><mark># 1. Lesson: None</mark></h1>\n"
   ]
  },
  {
   "cell_type": "markdown",
   "id": "47c4e5ff-b05f-4ef2-96f1-49dcb5beb158",
   "metadata": {},
   "source": [
    "\n",
    "<h1><mark># 2. Weekly graph question</mark></h1>"
   ]
  },
  {
   "cell_type": "markdown",
   "id": "aad37e29-6e84-41fa-886d-abc1312213ab",
   "metadata": {},
   "source": [
    "The Storytelling With Data book mentions planning on a \"Who, What, and How\" for your data story.  Write down a possible Who, What, and How for your data, using the ideas in the book."
   ]
  },
  {
   "cell_type": "markdown",
   "id": "f11ca46b",
   "metadata": {},
   "source": [
    "\n",
    "# 🛒 E-Commerce Dataset Analysis\n",
    "\n",
    "This dataset contains **transactional data** from an e-commerce platform, capturing details of online purchases.\n",
    "\n",
    "---\n",
    "\n",
    "## **📌 Who?**\n",
    "This dataset is valuable for:\n",
    "- **📦 Online Retailers**: Understanding sales trends, inventory management, and customer behavior.\n",
    "- **📊 Business Analysts**: Analyzing revenue, pricing strategies, and demand patterns.\n",
    "- **📈 Data Scientists & AI Practitioners**: Developing models for **customer segmentation, demand forecasting, and fraud detection**.\n",
    "- **💰 Investors & Business Owners**: Assessing e-commerce market trends and performance.\n",
    "\n",
    "---\n",
    "\n",
    "## **📌 What?**\n",
    "This dataset includes **8 key columns** capturing different aspects of **online transactions**:\n",
    "\n",
    "### **1️⃣ Transaction Details**\n",
    "- `InvoiceNo`: Unique **invoice number** for each transaction.\n",
    "- `InvoiceDate`: Date and time of the purchase.\n",
    "\n",
    "### **2️⃣ Product Information**\n",
    "- `StockCode`: Unique **product identifier**.\n",
    "- `Description`: **Name or details** of the purchased product.\n",
    "\n",
    "### **3️⃣ Sales Data**\n",
    "- `Quantity`: Number of units purchased.\n",
    "- `UnitPrice`: Price per unit of the product.\n",
    "\n",
    "### **4️⃣ Customer & Location**\n",
    "- `CustomerID`: Unique **customer identifier** (some missing values).\n",
    "- `Country`: Country where the transaction took place.\n",
    "\n",
    "---\n",
    "\n",
    "## **📌 How?**\n",
    "**How can this dataset be used?**  \n",
    "\n",
    "✔️ **Sales Performance Analysis** – Identify best-selling products and sales trends.  \n",
    "✔️ **Customer Segmentation** – Cluster customers based on their purchase behavior.  \n",
    "✔️ **Demand Forecasting** – Predict future sales based on historical trends.  \n",
    "✔️ **Fraud Detection** – Identify suspicious transactions based on unusual patterns.  \n",
    "✔️ **Market Expansion Strategies** – Determine the best countries for expansion based on sales data.  \n"
   ]
  },
  {
   "cell_type": "markdown",
   "id": "898eb327-aefd-4ac0-b95a-92b616a2181b",
   "metadata": {},
   "source": [
    "\n",
    "\n",
    "<h1><mark># 3. Homework - work with your own data</mark></h1>"
   ]
  },
  {
   "cell_type": "code",
   "execution_count": null,
   "id": "fe925521-979f-4983-8d85-8db8d1316e99",
   "metadata": {},
   "outputs": [],
   "source": [
    "import pandas as pd\n",
    "import numpy as np\n",
    "from datetime import datetime, timedelta"
   ]
  },
  {
   "cell_type": "markdown",
   "id": "14836788-b235-4cd4-b94d-5f749c6141a8",
   "metadata": {},
   "source": [
    "This week, you will do the same types of exercises as last week, but you should use your own datasets that you found last semester.\n",
    "\n",
    "### Here are some types of analysis you can do  Use Google, documentation, and ChatGPT to help you:\n",
    "\n",
    "- Summarize the datasets using info() and describe()\n",
    "\n",
    "- Are there any duplicate rows?\n",
    "\n",
    "- Are there any duplicate values in a given column (when this would be inappropriate?)\n",
    "\n",
    "- What are the mean, median, and mode of each column?\n",
    "\n",
    "- Are there any missing or null values?\n",
    "\n",
    "    - Do you want to fill in the missing value with a mean value?  A value of your choice?  Remove that row?\n",
    "\n",
    "- Identify any other inconsistent data (e.g. someone seems to be taking an action before they are born.)\n",
    "\n",
    "- Encode any categorical variables (e.g. with one-hot encoding.)\n",
    "\n",
    "### Conclusions:\n",
    "\n",
    "- Are the data usable?  If not, find some new data!\n",
    "\n",
    "- Do you need to modify or correct the data in some way?\n",
    "\n",
    "- Is there any class imbalance?  (Categories that have many more items than other categories)."
   ]
  },
  {
   "cell_type": "markdown",
   "id": "e42d57c9",
   "metadata": {},
   "source": [
    "**a. Using info():\n",
    "The info() method provides a concise summary of the DataFrame, including the number of non-null entries and data types for each column.**"
   ]
  },
  {
   "cell_type": "code",
   "execution_count": 1,
   "id": "f93bdf36",
   "metadata": {},
   "outputs": [
    {
     "name": "stdout",
     "output_type": "stream",
     "text": [
      "<class 'pandas.core.frame.DataFrame'>\n",
      "RangeIndex: 541909 entries, 0 to 541908\n",
      "Data columns (total 8 columns):\n",
      " #   Column       Non-Null Count   Dtype  \n",
      "---  ------       --------------   -----  \n",
      " 0   InvoiceNo    541909 non-null  object \n",
      " 1   StockCode    541909 non-null  object \n",
      " 2   Description  540455 non-null  object \n",
      " 3   Quantity     541909 non-null  int64  \n",
      " 4   InvoiceDate  541909 non-null  object \n",
      " 5   UnitPrice    541909 non-null  float64\n",
      " 6   CustomerID   406829 non-null  float64\n",
      " 7   Country      541909 non-null  object \n",
      "dtypes: float64(2), int64(1), object(5)\n",
      "memory usage: 33.1+ MB\n"
     ]
    }
   ],
   "source": [
    "import pandas as pd\n",
    "\n",
    "# Load the dataset\n",
    "df = pd.read_csv('e-commerce.csv', encoding='ISO-8859-1')\n",
    "\n",
    "# Display summary information\n",
    "df.info()"
   ]
  },
  {
   "cell_type": "markdown",
   "id": "21965301",
   "metadata": {},
   "source": [
    "**b. Using describe():\n",
    "The describe() method offers descriptive statistics for numerical columns, such as mean, standard deviation, and percentiles.**"
   ]
  },
  {
   "cell_type": "code",
   "execution_count": 2,
   "id": "3713e71c",
   "metadata": {},
   "outputs": [
    {
     "data": {
      "application/vnd.microsoft.datawrangler.viewer.v0+json": {
       "columns": [
        {
         "name": "index",
         "rawType": "object",
         "type": "string"
        },
        {
         "name": "Quantity",
         "rawType": "float64",
         "type": "float"
        },
        {
         "name": "UnitPrice",
         "rawType": "float64",
         "type": "float"
        },
        {
         "name": "CustomerID",
         "rawType": "float64",
         "type": "float"
        }
       ],
       "conversionMethod": "pd.DataFrame",
       "ref": "da8e32cc-694e-467d-9f16-93f0d8042965",
       "rows": [
        [
         "count",
         "541909.0",
         "541909.0",
         "406829.0"
        ],
        [
         "mean",
         "9.55224954743324",
         "4.611113626088513",
         "15287.690570239585"
        ],
        [
         "std",
         "218.08115784986612",
         "96.75985306119716",
         "1713.6003033216632"
        ],
        [
         "min",
         "-80995.0",
         "-11062.06",
         "12346.0"
        ],
        [
         "25%",
         "1.0",
         "1.25",
         "13953.0"
        ],
        [
         "50%",
         "3.0",
         "2.08",
         "15152.0"
        ],
        [
         "75%",
         "10.0",
         "4.13",
         "16791.0"
        ],
        [
         "max",
         "80995.0",
         "38970.0",
         "18287.0"
        ]
       ],
       "shape": {
        "columns": 3,
        "rows": 8
       }
      },
      "text/html": [
       "<div>\n",
       "<style scoped>\n",
       "    .dataframe tbody tr th:only-of-type {\n",
       "        vertical-align: middle;\n",
       "    }\n",
       "\n",
       "    .dataframe tbody tr th {\n",
       "        vertical-align: top;\n",
       "    }\n",
       "\n",
       "    .dataframe thead th {\n",
       "        text-align: right;\n",
       "    }\n",
       "</style>\n",
       "<table border=\"1\" class=\"dataframe\">\n",
       "  <thead>\n",
       "    <tr style=\"text-align: right;\">\n",
       "      <th></th>\n",
       "      <th>Quantity</th>\n",
       "      <th>UnitPrice</th>\n",
       "      <th>CustomerID</th>\n",
       "    </tr>\n",
       "  </thead>\n",
       "  <tbody>\n",
       "    <tr>\n",
       "      <th>count</th>\n",
       "      <td>541909.000000</td>\n",
       "      <td>541909.000000</td>\n",
       "      <td>406829.000000</td>\n",
       "    </tr>\n",
       "    <tr>\n",
       "      <th>mean</th>\n",
       "      <td>9.552250</td>\n",
       "      <td>4.611114</td>\n",
       "      <td>15287.690570</td>\n",
       "    </tr>\n",
       "    <tr>\n",
       "      <th>std</th>\n",
       "      <td>218.081158</td>\n",
       "      <td>96.759853</td>\n",
       "      <td>1713.600303</td>\n",
       "    </tr>\n",
       "    <tr>\n",
       "      <th>min</th>\n",
       "      <td>-80995.000000</td>\n",
       "      <td>-11062.060000</td>\n",
       "      <td>12346.000000</td>\n",
       "    </tr>\n",
       "    <tr>\n",
       "      <th>25%</th>\n",
       "      <td>1.000000</td>\n",
       "      <td>1.250000</td>\n",
       "      <td>13953.000000</td>\n",
       "    </tr>\n",
       "    <tr>\n",
       "      <th>50%</th>\n",
       "      <td>3.000000</td>\n",
       "      <td>2.080000</td>\n",
       "      <td>15152.000000</td>\n",
       "    </tr>\n",
       "    <tr>\n",
       "      <th>75%</th>\n",
       "      <td>10.000000</td>\n",
       "      <td>4.130000</td>\n",
       "      <td>16791.000000</td>\n",
       "    </tr>\n",
       "    <tr>\n",
       "      <th>max</th>\n",
       "      <td>80995.000000</td>\n",
       "      <td>38970.000000</td>\n",
       "      <td>18287.000000</td>\n",
       "    </tr>\n",
       "  </tbody>\n",
       "</table>\n",
       "</div>"
      ],
      "text/plain": [
       "            Quantity      UnitPrice     CustomerID\n",
       "count  541909.000000  541909.000000  406829.000000\n",
       "mean        9.552250       4.611114   15287.690570\n",
       "std       218.081158      96.759853    1713.600303\n",
       "min    -80995.000000  -11062.060000   12346.000000\n",
       "25%         1.000000       1.250000   13953.000000\n",
       "50%         3.000000       2.080000   15152.000000\n",
       "75%        10.000000       4.130000   16791.000000\n",
       "max     80995.000000   38970.000000   18287.000000"
      ]
     },
     "execution_count": 2,
     "metadata": {},
     "output_type": "execute_result"
    }
   ],
   "source": [
    "# Display descriptive statistics\n",
    "df.describe()"
   ]
  },
  {
   "cell_type": "markdown",
   "id": "0b8831df",
   "metadata": {},
   "source": [
    "**2. Checking for Duplicate Rows**\n",
    "\n",
    "Duplicate rows can skew analysis results. To identify and handle them:"
   ]
  },
  {
   "cell_type": "code",
   "execution_count": 3,
   "id": "d081de07",
   "metadata": {},
   "outputs": [
    {
     "name": "stdout",
     "output_type": "stream",
     "text": [
      "Number of duplicate rows: 5268\n"
     ]
    }
   ],
   "source": [
    "# Check for duplicate rows\n",
    "duplicate_rows = df[df.duplicated()]\n",
    "print(f\"Number of duplicate rows: {duplicate_rows.shape[0]}\")\n",
    "\n",
    "# Optionally, remove duplicate rows\n",
    "df = df.drop_duplicates()"
   ]
  },
  {
   "cell_type": "markdown",
   "id": "e1eee91a",
   "metadata": {},
   "source": [
    "**3. Checking for Duplicate Values in Specific Columns**\n",
    "\n",
    "Certain columns, like InvoiceNo (assuming it represents unique transactions), should not have duplicate values."
   ]
  },
  {
   "cell_type": "code",
   "execution_count": 4,
   "id": "eb81fad2",
   "metadata": {},
   "outputs": [
    {
     "name": "stdout",
     "output_type": "stream",
     "text": [
      "Number of duplicate InvoiceNo entries: 510741\n"
     ]
    }
   ],
   "source": [
    "# Check for duplicate InvoiceNo\n",
    "duplicate_invoices = df[df.duplicated(subset=['InvoiceNo'])]\n",
    "print(f\"Number of duplicate InvoiceNo entries: {duplicate_invoices.shape[0]}\")"
   ]
  },
  {
   "cell_type": "markdown",
   "id": "d0e9e814",
   "metadata": {},
   "source": [
    "**4. Calculating Mean, Median, and Mode**\n",
    "\n",
    "Understanding central tendencies helps in grasping the data distribution."
   ]
  },
  {
   "cell_type": "code",
   "execution_count": 4,
   "id": "9089730b",
   "metadata": {},
   "outputs": [
    {
     "name": "stdout",
     "output_type": "stream",
     "text": [
      "Mean values:\n",
      " Quantity          9.552250\n",
      "UnitPrice         4.611114\n",
      "CustomerID    15287.690570\n",
      "dtype: float64\n",
      "\n",
      "Median values:\n",
      " Quantity          3.00\n",
      "UnitPrice         2.08\n",
      "CustomerID    15152.00\n",
      "dtype: float64\n",
      "\n",
      "Mode values:\n",
      " Quantity          1.00\n",
      "UnitPrice         1.25\n",
      "CustomerID    17841.00\n",
      "Name: 0, dtype: float64\n"
     ]
    }
   ],
   "source": [
    "import pandas as pd\n",
    "import numpy as np\n",
    "from datetime import datetime, timedelta\n",
    "\n",
    "df = pd.read_csv('e-commerce.csv', encoding='ISO-8859-1')\n",
    "numeric_df = df.select_dtypes(include=['number'])\n",
    "\n",
    "# Calculate mean, median, and mode\n",
    "mean_values = numeric_df.mean()\n",
    "median_values = numeric_df.median()\n",
    "mode_values = numeric_df.mode().iloc[0]  # mode() returns a DataFrame\n",
    "\n",
    "print(\"Mean values:\\n\", mean_values)\n",
    "print(\"\\nMedian values:\\n\", median_values)\n",
    "print(\"\\nMode values:\\n\", mode_values)"
   ]
  },
  {
   "cell_type": "markdown",
   "id": "0bb93ed8",
   "metadata": {},
   "source": [
    "**5. Identifying Missing or Null Values**\n",
    "\n",
    "Missing values can affect analysis and modeling."
   ]
  },
  {
   "cell_type": "code",
   "execution_count": 5,
   "id": "65ab88e3",
   "metadata": {},
   "outputs": [
    {
     "name": "stdout",
     "output_type": "stream",
     "text": [
      "Missing values per column:\n",
      " InvoiceNo           0\n",
      "StockCode           0\n",
      "Description      1454\n",
      "Quantity            0\n",
      "InvoiceDate         0\n",
      "UnitPrice           0\n",
      "CustomerID     135080\n",
      "Country             0\n",
      "dtype: int64\n"
     ]
    }
   ],
   "source": [
    "# Check for missing values\n",
    "missing_values = df.isnull().sum()\n",
    "print(\"Missing values per column:\\n\", missing_values)"
   ]
  },
  {
   "cell_type": "markdown",
   "id": "25b167b7",
   "metadata": {},
   "source": [
    "Filling with Mean: Suitable for numerical columns where the mean is a representative value."
   ]
  },
  {
   "cell_type": "code",
   "execution_count": 6,
   "id": "310f1e32",
   "metadata": {},
   "outputs": [
    {
     "name": "stderr",
     "output_type": "stream",
     "text": [
      "/var/folders/p3/flb1440j2m91zj4hzc5j50t80000gn/T/ipykernel_12702/2618335549.py:2: FutureWarning: A value is trying to be set on a copy of a DataFrame or Series through chained assignment using an inplace method.\n",
      "The behavior will change in pandas 3.0. This inplace method will never work because the intermediate object on which we are setting values always behaves as a copy.\n",
      "\n",
      "For example, when doing 'df[col].method(value, inplace=True)', try using 'df.method({col: value}, inplace=True)' or df[col] = df[col].method(value) instead, to perform the operation inplace on the original object.\n",
      "\n",
      "\n",
      "  df['UnitPrice'].fillna(df['UnitPrice'].mean(), inplace=True)\n"
     ]
    }
   ],
   "source": [
    "# Fill missing values in 'UnitPrice' with the mean\n",
    "df['UnitPrice'].fillna(df['UnitPrice'].mean(), inplace=True)"
   ]
  },
  {
   "cell_type": "markdown",
   "id": "fea856ec",
   "metadata": {},
   "source": [
    "Filling with a Specific Value: Useful for categorical columns or when a default value is appropriate."
   ]
  },
  {
   "cell_type": "code",
   "execution_count": 7,
   "id": "0c8de19b",
   "metadata": {},
   "outputs": [
    {
     "name": "stderr",
     "output_type": "stream",
     "text": [
      "/var/folders/p3/flb1440j2m91zj4hzc5j50t80000gn/T/ipykernel_12702/307998736.py:2: FutureWarning: A value is trying to be set on a copy of a DataFrame or Series through chained assignment using an inplace method.\n",
      "The behavior will change in pandas 3.0. This inplace method will never work because the intermediate object on which we are setting values always behaves as a copy.\n",
      "\n",
      "For example, when doing 'df[col].method(value, inplace=True)', try using 'df.method({col: value}, inplace=True)' or df[col] = df[col].method(value) instead, to perform the operation inplace on the original object.\n",
      "\n",
      "\n",
      "  df['Country'].fillna('Unknown', inplace=True)\n"
     ]
    }
   ],
   "source": [
    "# Fill missing values in 'Country' with 'Unknown'\n",
    "df['Country'].fillna('Unknown', inplace=True)"
   ]
  },
  {
   "cell_type": "markdown",
   "id": "d1e2188b",
   "metadata": {},
   "source": [
    "Removing Rows: Consider when the missing data is minimal or irrelevant."
   ]
  },
  {
   "cell_type": "code",
   "execution_count": 8,
   "id": "902c2b39",
   "metadata": {},
   "outputs": [],
   "source": [
    "# Drop rows with any missing values\n",
    "df.dropna(inplace=True)"
   ]
  },
  {
   "cell_type": "markdown",
   "id": "80f9912e",
   "metadata": {},
   "source": [
    "\tRemoving Rows: Consider when the missing data is minimal or irrelevant."
   ]
  },
  {
   "cell_type": "code",
   "execution_count": 9,
   "id": "51329043",
   "metadata": {},
   "outputs": [],
   "source": [
    "df.dropna(inplace=True)"
   ]
  },
  {
   "cell_type": "markdown",
   "id": "6fbdbcb6",
   "metadata": {},
   "source": [
    "**6. Identifying Inconsistent Data**\n",
    "\n",
    "Inconsistent data, such as negative quantities or future dates in past records, can lead to incorrect insights."
   ]
  },
  {
   "cell_type": "code",
   "execution_count": 10,
   "id": "0a152f68",
   "metadata": {},
   "outputs": [
    {
     "name": "stdout",
     "output_type": "stream",
     "text": [
      "Number of records with negative quantities: 8905\n",
      "Number of records with future InvoiceDate: 0\n"
     ]
    }
   ],
   "source": [
    "# Check for negative quantities\n",
    "negative_quantities = df[df['Quantity'] < 0]\n",
    "print(f\"Number of records with negative quantities: {negative_quantities.shape[0]}\")\n",
    "\n",
    "# Check for future dates (assuming 'InvoiceDate' is a datetime column)\n",
    "df['InvoiceDate'] = pd.to_datetime(df['InvoiceDate'], errors='coerce')\n",
    "future_dates = df[df['InvoiceDate'] > pd.Timestamp.now()]\n",
    "print(f\"Number of records with future InvoiceDate: {future_dates.shape[0]}\")"
   ]
  },
  {
   "cell_type": "markdown",
   "id": "5dd42b8e",
   "metadata": {},
   "source": [
    "**7. Encoding Categorical Variables**\n",
    "\n",
    "Machine learning models require numerical input, so encoding categorical variables is essential."
   ]
  },
  {
   "cell_type": "code",
   "execution_count": 11,
   "id": "f32c2ee1",
   "metadata": {},
   "outputs": [],
   "source": [
    "# One-hot encode the 'Country' column\n",
    "df_encoded = pd.get_dummies(df, columns=['Country'], drop_first=True)"
   ]
  },
  {
   "cell_type": "markdown",
   "id": "45223e41",
   "metadata": {},
   "source": [
    "🏁 Conclusions\n",
    "\n",
    "✅ Are the data usable?\n",
    "\n",
    "### 📌 E-Commerce Dataset Usability Analysis\n",
    "\n",
    "Yes, the E-Commerce dataset is generally usable, but it requires some preprocessing and cleaning to ensure accuracy in analysis.\n",
    "\n",
    "#### 🔍 Key Issues Found:\n",
    "- **Duplicate rows** were detected, which need to be **removed**.\n",
    "- **Missing values** were present in certain columns, requiring **imputation or removal**.\n",
    "- **Inconsistent data** (e.g., **negative quantities, future invoice dates**) need **correction**.\n",
    "\n",
    "📌 If these issues significantly impact analysis, **finding an alternative dataset may be necessary**.\n",
    "\n",
    "\n",
    "### 🔄 Do You Need to Modify or Correct the Data in Some Way?\n",
    "\n",
    "Yes, data modifications and corrections are required for **optimal usability**:\n",
    "\n",
    "- **Handling duplicates**: Removing duplicate rows to prevent skewed results.\n",
    "- **Filling missing values**: Using appropriate strategies such as:\n",
    "  - Mean imputation for **numerical data**.\n",
    "  - A default value for **categorical fields**.\n",
    "- **Correcting inconsistent values**:\n",
    "  - Removing **negative Quantity** values unless they represent **refunds**.\n",
    "  - Checking for **future InvoiceDate** entries and filtering them out if incorrect.\n",
    "- **Encoding categorical variables**:\n",
    "  - Converting `Country` into numerical format using **one-hot encoding** for modeling.\n",
    "\n",
    "---\n",
    "\n",
    "### ⚖ Is There Any Class Imbalance?\n",
    "\n",
    "Class imbalance analysis involves checking if certain categories are **overrepresented** compared to others.\n",
    "\n",
    "#### 🔍 **Findings:**\n",
    "- The **country distribution** is highly skewed, with most transactions occurring in the **UK** compared to other countries.\n",
    "- Some **products** are sold significantly more often than others, creating an **imbalance** in sales data.\n",
    "- Some **customers** place many more orders than others, affecting **behavioral analysis**.\n",
    "\n",
    "#### 🚨 **Potential Impact:**\n",
    "- If using **machine learning**, **imbalanced data** can lead to **biased models**.\n",
    "- If performing **statistical analysis**, major categories may **dominate insights**.\n",
    "\n",
    "#### 🛠 **Possible Solutions:**\n",
    "- **Downsampling**: Reducing the number of samples from overrepresented categories.\n",
    "- **Upsampling**: Adding **synthetic data** for underrepresented groups.\n",
    "- **Weighted metrics**: Adjusting **evaluation metrics** to balance performance.\n",
    "\n",
    "🚀 Final Thoughts\n",
    "\n",
    "This dataset is usable with proper preprocessing, and the analysis is viable after handling missing data, duplicates, and inconsistencies.\n",
    "\n",
    "However, class imbalance and data modifications must be carefully addressed depending on the goal of the analysis. If severe issues remain after cleaning, consider finding a better dataset with more balanced and complete information."
   ]
  },
  {
   "cell_type": "markdown",
   "id": "abab9e6d-18cc-4863-b980-3e52f581763a",
   "metadata": {},
   "source": [
    "\n",
    "\n",
    "\n",
    "<h1><mark># 4. Storytelling With Data graph</mark></h1>"
   ]
  },
  {
   "cell_type": "markdown",
   "id": "1911148d-9df6-4b33-a875-8c96408ec834",
   "metadata": {},
   "source": [
    "Just like last week: choose any graph in the Introduction of Storytelling With Data. Use matplotlib to reproduce it in a rough way. I don't expect you to spend an enormous amount of time on this; I understand that you likely will not have time to re-create every feature of the graph. However, if you're excited about learning to use matplotlib, this is a good way to do that. You don't have to duplicate the exact values on the graph; just the same rough shape will be enough.  If you don't feel comfortable using matplotlib yet, do the best you can and write down what you tried or what Google searches you did to find the answers."
   ]
  },
  {
   "cell_type": "markdown",
   "id": "79c966c8",
   "metadata": {},
   "source": [
    "![Alt Text](UserSatisfaction.png)"
   ]
  },
  {
   "cell_type": "code",
   "execution_count": 12,
   "id": "8b2888f9-3700-45ab-9829-6a5372106f9f",
   "metadata": {},
   "outputs": [
    {
     "data": {
      "image/png": "[encoded data removed]",
      "text/plain": [
       "<Figure size 1000x600 with 1 Axes>"
      ]
     },
     "metadata": {},
     "output_type": "display_data"
    }
   ],
   "source": [
    "# Re-import necessary libraries after execution state reset\n",
    "import numpy as np\n",
    "import pandas as pd\n",
    "import matplotlib.pyplot as plt\n",
    "\n",
    "# Creating the data for user satisfaction categories\n",
    "categories = [\n",
    "    \"Feature A\", \"Feature B\", \"Feature C\", \"Feature D\", \"Feature E\",\n",
    "    \"Feature F\", \"Feature G\", \"Feature H\", \"Feature I\", \"Feature J\",\n",
    "    \"Feature K\", \"Feature L\", \"Feature M\", \"Feature N\", \"Feature O\"\n",
    "]\n",
    "\n",
    "# Percentage breakdowns for each category\n",
    "data = np.array([\n",
    "    [11, 40, 47],  # Feature A\n",
    "    [13, 36, 47],  # Feature B\n",
    "    [5, 24, 34, 33],  # Feature C\n",
    "    [4, 21, 37, 29],  # Feature D\n",
    "    [6, 23, 36, 28],  # Feature E\n",
    "    [5, 20, 35, 25],  # Feature F\n",
    "    [5, 15, 26, 33],  # Feature G\n",
    "    [6, 23, 32, 25],  # Feature H\n",
    "    [5, 17, 27, 27],  # Feature I\n",
    "    [8, 14, 24, 27, 25],  # Feature J\n",
    "    [4, 17, 28, 21],  # Feature K\n",
    "    [4, 23, 27, 16],  # Feature L\n",
    "    [3, 8, 25, 18, 13],  # Feature M\n",
    "    [9, 14, 24, 17, 10],  # Feature N\n",
    "    [6, 15, 16, 11]   # Feature O\n",
    "], dtype=object)\n",
    "\n",
    "# Labels for different satisfaction levels\n",
    "labels = [\n",
    "    \"Have not used\", \"Not satisfied at all\", \"Not very satisfied\",\n",
    "    \"Somewhat satisfied\", \"Very satisfied\", \"Completely satisfied\"\n",
    "]\n",
    "\n",
    "# Colors for different segments\n",
    "colors = [\"black\", \"brown\", \"pink\", \"gray\", \"skyblue\", \"darkblue\"]\n",
    "\n",
    "# Create the figure and axis\n",
    "fig, ax = plt.subplots(figsize=(10, 6))\n",
    "\n",
    "# Stacked bar chart\n",
    "bottom = np.zeros(len(categories))  # Start stacking from zero\n",
    "for i, (label, color) in enumerate(zip(labels, colors)):\n",
    "    values = np.array([row[i] if len(row) > i else 0 for row in data])\n",
    "    ax.barh(categories, values, left=bottom, color=color, label=label)\n",
    "    bottom += values  # Stack on top\n",
    "\n",
    "# Formatting the chart\n",
    "ax.set_xlabel(\"Percentage\")\n",
    "ax.set_title(\"User Satisfaction\")\n",
    "ax.legend(title=\"Satisfaction Levels\", loc=\"upper right\", fontsize=10)\n",
    "\n",
    "# Display the chart\n",
    "plt.gca().invert_yaxis()  # Reverse category order for better readability\n",
    "plt.show()"
   ]
  }
 ],
 "metadata": {
  "kernelspec": {
   "display_name": "Python 3",
   "language": "python",
   "name": "python3"
  },
  "language_info": {
   "codemirror_mode": {
    "name": "ipython",
    "version": 3
   },
   "file_extension": ".py",
   "mimetype": "text/x-python",
   "name": "python",
   "nbconvert_exporter": "python",
   "pygments_lexer": "ipython3",
   "version": "3.12.9"
  }
 },
 "nbformat": 4,
 "nbformat_minor": 5
}
